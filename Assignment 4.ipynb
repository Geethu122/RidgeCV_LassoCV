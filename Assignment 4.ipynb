{
 "cells": [
  {
   "cell_type": "markdown",
   "id": "c4efc07d",
   "metadata": {},
   "source": [
    "# Chi-Square Test"
   ]
  },
  {
   "cell_type": "code",
   "execution_count": 1,
   "id": "a8cb33a9",
   "metadata": {},
   "outputs": [],
   "source": [
    "import numpy as np\n",
    "import scipy.stats as stats"
   ]
  },
  {
   "cell_type": "code",
   "execution_count": 2,
   "id": "43d7f7d3",
   "metadata": {},
   "outputs": [],
   "source": [
    "# Data from the contingency table\n",
    "data = np.array([[50, 70],   # Very Satisfied\n",
    "                 [80, 100],  # Satisfied\n",
    "                 [60, 90],   # Neutral\n",
    "                 [30, 50],   # Unsatisfied\n",
    "                 [20, 50]])  # Very Unsatisfied"
   ]
  },
  {
   "cell_type": "code",
   "execution_count": 3,
   "id": "4c0ec902",
   "metadata": {},
   "outputs": [],
   "source": [
    "# Perform Chi-Square test\n",
    "chi2, p, dof, expected = stats.chi2_contingency(data)"
   ]
  },
  {
   "cell_type": "code",
   "execution_count": 4,
   "id": "db0df7e3",
   "metadata": {},
   "outputs": [],
   "source": [
    "# Critical value for 4 degrees of freedom and alpha = 0.05\n",
    "critical_value = stats.chi2.ppf(0.95, dof)\n"
   ]
  },
  {
   "cell_type": "code",
   "execution_count": 5,
   "id": "8df96ca0",
   "metadata": {},
   "outputs": [
    {
     "name": "stdout",
     "output_type": "stream",
     "text": [
      "Chi-Square Statistic: 5.64\n",
      "Degrees of Freedom: 4\n",
      "Critical Value: 9.49\n",
      "P-Value: 0.2278\n"
     ]
    }
   ],
   "source": [
    "# Output results\n",
    "print(f\"Chi-Square Statistic: {chi2:.2f}\")\n",
    "print(f\"Degrees of Freedom: {dof}\")\n",
    "print(f\"Critical Value: {critical_value:.2f}\")\n",
    "print(f\"P-Value: {p:.4f}\")\n"
   ]
  },
  {
   "cell_type": "code",
   "execution_count": 6,
   "id": "980b727c",
   "metadata": {},
   "outputs": [
    {
     "name": "stdout",
     "output_type": "stream",
     "text": [
      "Fail to reject the null hypothesis: No significant association between device type and customer satisfaction.\n"
     ]
    }
   ],
   "source": [
    "if chi2 > critical_value:\n",
    "    print(\"Reject the null hypothesis: There is a significant association between device type and customer satisfaction.\")\n",
    "else:\n",
    "    print(\"Fail to reject the null hypothesis: No significant association between device type and customer satisfaction.\")"
   ]
  },
  {
   "cell_type": "markdown",
   "id": "70fd8593",
   "metadata": {},
   "source": [
    "# Hypothesis Test:"
   ]
  },
  {
   "cell_type": "code",
   "execution_count": 7,
   "id": "1fffee5d",
   "metadata": {},
   "outputs": [],
   "source": [
    "import numpy as np\n",
    "from scipy.stats import norm"
   ]
  },
  {
   "cell_type": "code",
   "execution_count": 8,
   "id": "31982759",
   "metadata": {},
   "outputs": [],
   "source": [
    "# Given data\n",
    "sample_mean = 3050  # Rs.\n",
    "theoretical_mean = 1000 + 5 * 600  # Rs. (Based on the cost model)\n",
    "sigma = 5 * 25  # Standard deviation\n",
    "n = 25  # Sample size"
   ]
  },
  {
   "cell_type": "code",
   "execution_count": 9,
   "id": "c51861f3",
   "metadata": {},
   "outputs": [],
   "source": [
    "# Calculate the test statistic (Z)\n",
    "z = (sample_mean - theoretical_mean) / (sigma / np.sqrt(n))\n"
   ]
  },
  {
   "cell_type": "code",
   "execution_count": 10,
   "id": "b647177c",
   "metadata": {},
   "outputs": [],
   "source": [
    "# Determine the critical value at alpha = 0.05 (one-tailed test)\n",
    "alpha = 0.05\n",
    "critical_value = norm.ppf(1 - alpha)"
   ]
  },
  {
   "cell_type": "code",
   "execution_count": 11,
   "id": "8b19366e",
   "metadata": {},
   "outputs": [
    {
     "name": "stdout",
     "output_type": "stream",
     "text": [
      "Test Statistic (Z): -38.00\n",
      "Critical Value: 1.64\n"
     ]
    }
   ],
   "source": [
    "# Output results\n",
    "print(f\"Test Statistic (Z): {z:.2f}\")\n",
    "print(f\"Critical Value: {critical_value:.2f}\")"
   ]
  },
  {
   "cell_type": "code",
   "execution_count": 12,
   "id": "8bd12318",
   "metadata": {},
   "outputs": [
    {
     "name": "stdout",
     "output_type": "stream",
     "text": [
      "Fail to reject the null hypothesis: No strong evidence that weekly operating costs are higher than the model suggests.\n"
     ]
    }
   ],
   "source": [
    "if z > critical_value:\n",
    "    print(\"Reject the null hypothesis: There is strong evidence to support the claim that weekly operating costs are higher than the model suggests.\")\n",
    "else:\n",
    "    print(\"Fail to reject the null hypothesis: No strong evidence that weekly operating costs are higher than the model suggests.\")"
   ]
  },
  {
   "cell_type": "code",
   "execution_count": null,
   "id": "f09f0165",
   "metadata": {},
   "outputs": [],
   "source": []
  }
 ],
 "metadata": {
  "kernelspec": {
   "display_name": "Python 3 (ipykernel)",
   "language": "python",
   "name": "python3"
  },
  "language_info": {
   "codemirror_mode": {
    "name": "ipython",
    "version": 3
   },
   "file_extension": ".py",
   "mimetype": "text/x-python",
   "name": "python",
   "nbconvert_exporter": "python",
   "pygments_lexer": "ipython3",
   "version": "3.11.5"
  }
 },
 "nbformat": 4,
 "nbformat_minor": 5
}
